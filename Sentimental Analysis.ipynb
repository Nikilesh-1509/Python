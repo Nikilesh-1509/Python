{
 "cells": [
  {
   "cell_type": "code",
   "execution_count": null,
   "id": "4650d79b",
   "metadata": {},
   "outputs": [],
   "source": [
    "import re\n",
    "import csv\n",
    "import pandas as pd\n",
    "from bs4 import BeautifulSoup\n",
    "import spacy\n",
    "from top2vec import Top2Vec"
   ]
  },
  {
   "cell_type": "code",
   "execution_count": 2,
   "id": "d230edc4",
   "metadata": {},
   "outputs": [],
   "source": [
    "df=pd.read_csv(\"C_78DM8fG6E.csv\",skipinitialspace=True)"
   ]
  },
  {
   "cell_type": "code",
   "execution_count": 3,
   "id": "b75d7705",
   "metadata": {},
   "outputs": [],
   "source": [
    "def clean_text(text):\n",
    "    # Remove HTML tags\n",
    "    soup = BeautifulSoup(text, 'html.parser')\n",
    "    text = soup.get_text()\n",
    "    \n",
    "    # Remove special ASCII symbols\n",
    "    text = re.sub(r'[^\\x00-\\x7F]+', '', text)\n",
    "\n",
    "    # Remove asterisks around each letter in the phrase and words attached to @\n",
    "    text = re.sub(r'\\*|@\\w+|@|\\?|!', '', text)\n",
    "    \n",
    "    return text.strip()"
   ]
  },
  {
   "cell_type": "code",
   "execution_count": 4,
   "id": "1691f150",
   "metadata": {},
   "outputs": [
    {
     "name": "stderr",
     "output_type": "stream",
     "text": [
      "C:\\Users\\s570350\\AppData\\Local\\Temp\\ipykernel_6968\\1728796713.py:3: MarkupResemblesLocatorWarning: The input looks more like a filename than markup. You may want to open this file and pass the filehandle into Beautiful Soup.\n",
      "  soup = BeautifulSoup(text, 'html.parser')\n"
     ]
    }
   ],
   "source": [
    "df['clean_comment'] = df['Comment'].apply(clean_text)"
   ]
  },
  {
   "cell_type": "code",
   "execution_count": 5,
   "id": "d595fe72",
   "metadata": {},
   "outputs": [],
   "source": [
    "# Removing stop words.\n",
    "# Function to remove stopwords and names from a sentence\n",
    "def remove_stopwords_and_names(sentence):\n",
    "    # Load English language model\n",
    "    nlp = spacy.load(\"en_core_web_sm\")\n",
    "    # Process the sentence with spaCy\n",
    "    doc = nlp(sentence)\n",
    "    # Remove stop words from the sentence\n",
    "    filtered_sentence = \" \".join(token.text for token in doc if not token.is_stop and token.ent_type_ == '')\n",
    "    return filtered_sentence"
   ]
  },
  {
   "cell_type": "code",
   "execution_count": null,
   "id": "7c9bd60d",
   "metadata": {},
   "outputs": [],
   "source": [
    "# Remove stopwords from the 'text_column'\n",
    "df['clean_comment'] = df['clean_comment'].apply(remove_stopwords_and_names)"
   ]
  },
  {
   "cell_type": "code",
   "execution_count": null,
   "id": "94646932",
   "metadata": {},
   "outputs": [],
   "source": [
    "def filter_sentences(text):\n",
    "    sentences = text.split('.')\n",
    "    filtered_sentences = [sentence for sentence in sentences if len(sentence.split()) >= 5]\n",
    "    return '. '.join(filtered_sentences)\n",
    "\n",
    "\n",
    "# Apply the function to the 'clean_comment' column\n",
    "df['clean_comment'] = df['clean_comment'].apply(filter_sentences)"
   ]
  },
  {
   "cell_type": "code",
   "execution_count": null,
   "id": "40d57d28",
   "metadata": {},
   "outputs": [],
   "source": [
    "# Function to filter out rows with empty 'clean_comment' values\n",
    "def filter_empty_comments(row):\n",
    "    return row['clean_comment'] != '' or row['clean_comment'] != None\n",
    "\n",
    "# Apply the function to filter out rows with empty 'clean_comment' values\n",
    "df = df[df.apply(filter_empty_comments, axis=1)]"
   ]
  },
  {
   "cell_type": "code",
   "execution_count": null,
   "id": "d9fb64b3",
   "metadata": {},
   "outputs": [],
   "source": [
    "# Save the cleaned DataFrame to a new CSV file\n",
    "df[\"clean_comment\"].to_csv(\"C_78DM8fG6E_2.csv\", index=False)"
   ]
  },
  {
   "cell_type": "code",
   "execution_count": null,
   "id": "2b3a2772",
   "metadata": {},
   "outputs": [],
   "source": [
    "import spacy\n",
    "spacy.load('en_core_web_sm')\n",
    "from spacy.lang.en import English\n",
    "parser = English()\n",
    "def tokenize(text):\n",
    "    lda_tokens = []\n",
    "    tokens = parser(text)\n",
    "    for token in tokens:\n",
    "        if token.orth_.isspace():\n",
    "            continue\n",
    "        elif token.like_url:\n",
    "            lda_tokens.append('URL')\n",
    "        elif token.orth_.startswith('@'):\n",
    "            lda_tokens.append('SCREEN_NAME')\n",
    "        else:\n",
    "            lda_tokens.append(token.lower_)\n",
    "    return lda_tokens"
   ]
  },
  {
   "cell_type": "code",
   "execution_count": null,
   "id": "c97f89c4",
   "metadata": {},
   "outputs": [],
   "source": [
    "import nltk\n",
    "nltk.download('wordnet')\n",
    "from nltk.corpus import wordnet as wn\n",
    "def get_lemma(word):\n",
    "    lemma = wn.morphy(word)\n",
    "    if lemma is None:\n",
    "        return word\n",
    "    else:\n",
    "        return lemma\n",
    "    \n",
    "from nltk.stem.wordnet import WordNetLemmatizer\n",
    "def get_lemma2(word):\n",
    "    return WordNetLemmatizer().lemmatize(word)"
   ]
  },
  {
   "cell_type": "code",
   "execution_count": null,
   "id": "464fb4ce",
   "metadata": {},
   "outputs": [],
   "source": [
    "nltk.download('stopwords')\n",
    "en_stop = set(nltk.corpus.stopwords.words('english'))"
   ]
  },
  {
   "cell_type": "code",
   "execution_count": null,
   "id": "4c052f75",
   "metadata": {},
   "outputs": [],
   "source": [
    "def prepare_text_for_lda(text):\n",
    "    tokens = tokenize(text)\n",
    "    tokens = [token for token in tokens if len(token) > 4]\n",
    "    tokens = [token for token in tokens if token not in en_stop]\n",
    "    tokens = [get_lemma(token) for token in tokens]\n",
    "    return tokens"
   ]
  },
  {
   "cell_type": "code",
   "execution_count": null,
   "id": "e43e7167",
   "metadata": {},
   "outputs": [],
   "source": [
    "token_list = []\n",
    "document = df['clean_comment'].tolist()\n",
    "for line in document:\n",
    "        tokens = prepare_text_for_lda(line)\n",
    "        token_list += tokens"
   ]
  },
  {
   "cell_type": "code",
   "execution_count": null,
   "id": "da3ecec5",
   "metadata": {},
   "outputs": [],
   "source": [
    "df[\"tokens\"] = df[\"clean_comment\"].apply(prepare_text_for_lda)"
   ]
  },
  {
   "cell_type": "code",
   "execution_count": null,
   "id": "f8520f90",
   "metadata": {},
   "outputs": [],
   "source": [
    "def get_topic_dict(text):\n",
    "    dict_ = {}\n",
    "    text = text.split(\"+\")\n",
    "    for i in range(len(text)):\n",
    "        text[i] = text[i].strip()\n",
    "        temp = text[i].split(\"*\")\n",
    "        if temp[0] != \"\":\n",
    "            dict_[temp[1][1:-1]] = float(temp[0])\n",
    "    \n",
    "    return dict_"
   ]
  },
  {
   "cell_type": "code",
   "execution_count": null,
   "id": "f209f86b",
   "metadata": {},
   "outputs": [],
   "source": [
    "import gensim\n",
    "from gensim import corpora\n",
    "def get_topics(tokens):\n",
    "    if len(tokens) != 0:\n",
    "        dictionary = corpora.Dictionary([tokens])\n",
    "        corpus = [dictionary.doc2bow(tokens)]\n",
    "        NUM_TOPICS = 1\n",
    "        ldamodel = gensim.models.ldamodel.LdaModel(corpus, num_topics = NUM_TOPICS, id2word=dictionary, passes=15)\n",
    "        ldamodel.save('model5.gensim')\n",
    "        topics = ldamodel.print_topics(num_words=len(tokens))\n",
    "        return get_topic_dict(topics[0][1])\n",
    "    else:\n",
    "        return {}"
   ]
  },
  {
   "cell_type": "code",
   "execution_count": null,
   "id": "127065c8",
   "metadata": {},
   "outputs": [],
   "source": [
    "ldamodel = gensim.models.ldamodel.LdaModel(corpus, num_topics = NUM_TOPICS, id2word=dictionary, passes=15)\n"
   ]
  },
  {
   "cell_type": "code",
   "execution_count": null,
   "id": "604e0434",
   "metadata": {},
   "outputs": [],
   "source": [
    "df = df[df['topics'] != {}]\n",
    "df"
   ]
  },
  {
   "cell_type": "code",
   "execution_count": null,
   "id": "162d80b1",
   "metadata": {},
   "outputs": [],
   "source": [
    "for i in df['topics']:\n",
    "    print(i)"
   ]
  },
  {
   "cell_type": "code",
   "execution_count": null,
   "id": "68eeef1d",
   "metadata": {},
   "outputs": [],
   "source": [
    "# Save the cleaned DataFrame to a new CSV file\n",
    "df.to_csv(\"C_78DM8fG6E_2.csv\", index=False)"
   ]
  },
  {
   "cell_type": "code",
   "execution_count": null,
   "id": "bdf8d78a",
   "metadata": {},
   "outputs": [],
   "source": [
    "df.head()"
   ]
  },
  {
   "cell_type": "code",
   "execution_count": null,
   "id": "79140446",
   "metadata": {},
   "outputs": [],
   "source": []
  },
  {
   "cell_type": "code",
   "execution_count": null,
   "id": "4cc8e289",
   "metadata": {},
   "outputs": [],
   "source": []
  },
  {
   "cell_type": "code",
   "execution_count": null,
   "id": "f1dfe51d",
   "metadata": {},
   "outputs": [],
   "source": []
  },
  {
   "cell_type": "code",
   "execution_count": null,
   "id": "acee9851",
   "metadata": {},
   "outputs": [],
   "source": []
  },
  {
   "cell_type": "code",
   "execution_count": null,
   "id": "902f8778",
   "metadata": {},
   "outputs": [],
   "source": []
  },
  {
   "cell_type": "code",
   "execution_count": null,
   "id": "bf09587f",
   "metadata": {},
   "outputs": [],
   "source": []
  },
  {
   "cell_type": "code",
   "execution_count": null,
   "id": "1b92068a",
   "metadata": {},
   "outputs": [],
   "source": []
  }
 ],
 "metadata": {
  "kernelspec": {
   "display_name": "Python 3 (ipykernel)",
   "language": "python",
   "name": "python3"
  },
  "language_info": {
   "codemirror_mode": {
    "name": "ipython",
    "version": 3
   },
   "file_extension": ".py",
   "mimetype": "text/x-python",
   "name": "python",
   "nbconvert_exporter": "python",
   "pygments_lexer": "ipython3",
   "version": "3.11.5"
  }
 },
 "nbformat": 4,
 "nbformat_minor": 5
}
